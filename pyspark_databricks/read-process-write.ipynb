{
 "cells": [
  {
   "cell_type": "markdown",
   "metadata": {
    "application/vnd.databricks.v1+cell": {
     "cellMetadata": {
      "byteLimit": 2048000,
      "rowLimit": 10000
     },
     "inputWidgets": {},
     "nuid": "0757e28e-c9cc-4fd7-842b-3bd7fd975467",
     "showTitle": false,
     "title": ""
    }
   },
   "source": [
    "Reading CSV data with an inferred schema"
   ]
  },
  {
   "cell_type": "code",
   "execution_count": 0,
   "metadata": {
    "application/vnd.databricks.v1+cell": {
     "cellMetadata": {
      "byteLimit": 2048000,
      "rowLimit": 10000
     },
     "inputWidgets": {},
     "nuid": "b26e378c-2dcd-4dae-b1df-49a7e5a63577",
     "showTitle": false,
     "title": ""
    }
   },
   "outputs": [
    {
     "output_type": "stream",
     "name": "stdout",
     "output_type": "stream",
     "text": [
      "+-------+-------+--------------------+--------------------+--------------------+--------------------+------------------+------------+------+---------+--------------------+--------------------+\n|show_id|   type|               title|            director|                cast|             country|        date_added|release_year|rating| duration|           listed_in|         description|\n+-------+-------+--------------------+--------------------+--------------------+--------------------+------------------+------------+------+---------+--------------------+--------------------+\n|     s1|  Movie|Dick Johnson Is Dead|     Kirsten Johnson|                null|       United States|September 25, 2021|        2020| PG-13|   90 min|       Documentaries|As her father nea...|\n|     s2|TV Show|       Blood & Water|                null|Ama Qamata, Khosi...|        South Africa|September 24, 2021|        2021| TV-MA|2 Seasons|International TV ...|After crossing pa...|\n|     s3|TV Show|           Ganglands|     Julien Leclercq|Sami Bouajila, Tr...|                null|September 24, 2021|        2021| TV-MA| 1 Season|Crime TV Shows, I...|To protect his fa...|\n|     s4|TV Show|Jailbirds New Orl...|                null|                null|                null|September 24, 2021|        2021| TV-MA| 1 Season|Docuseries, Reali...|Feuds, flirtation...|\n|     s5|TV Show|        Kota Factory|                null|Mayur More, Jiten...|               India|September 24, 2021|        2021| TV-MA|2 Seasons|International TV ...|In a city of coac...|\n|     s6|TV Show|       Midnight Mass|       Mike Flanagan|Kate Siegel, Zach...|                null|September 24, 2021|        2021| TV-MA| 1 Season|TV Dramas, TV Hor...|The arrival of a ...|\n|     s7|  Movie|My Little Pony: A...|Robert Cullen, Jo...|Vanessa Hudgens, ...|                null|September 24, 2021|        2021|    PG|   91 min|Children & Family...|Equestria's divid...|\n|     s8|  Movie|             Sankofa|        Haile Gerima|Kofi Ghanaba, Oya...|United States, Gh...|September 24, 2021|        1993| TV-MA|  125 min|Dramas, Independe...|On a photo shoot ...|\n|     s9|TV Show|The Great British...|     Andy Devonshire|Mel Giedroyc, Sue...|      United Kingdom|September 24, 2021|        2021| TV-14|9 Seasons|British TV Shows,...|A talented batch ...|\n|    s10|  Movie|        The Starling|      Theodore Melfi|Melissa McCarthy,...|       United States|September 24, 2021|        2021| PG-13|  104 min|    Comedies, Dramas|A woman adjusting...|\n|    s11|TV Show|Vendetta: Truth, ...|                null|                null|                null|September 24, 2021|        2021| TV-MA| 1 Season|Crime TV Shows, D...|\"Sicily boasts a ...|\n|    s12|TV Show|    Bangkok Breaking|   Kongkiat Komesiri|Sukollawat Kanaro...|                null|September 23, 2021|        2021| TV-MA| 1 Season|Crime TV Shows, I...|Struggling to ear...|\n|    s13|  Movie|        Je Suis Karl| Christian Schwochow|Luna Wedler, Jann...|Germany, Czech Re...|September 23, 2021|        2021| TV-MA|  127 min|Dramas, Internati...|After most of her...|\n|    s14|  Movie|Confessions of an...|       Bruno Garotti|Klara Castanho, L...|                null|September 22, 2021|        2021| TV-PG|   91 min|Children & Family...|When the clever b...|\n|    s15|TV Show|Crime Stories: In...|                null|                null|                null|September 22, 2021|        2021| TV-MA| 1 Season|British TV Shows,...|Cameras following...|\n|    s16|TV Show|   Dear White People|                null|Logan Browning, B...|       United States|September 22, 2021|        2021| TV-MA|4 Seasons|TV Comedies, TV D...|\"Students of colo...|\n|    s17|  Movie|Europe's Most Dan...|Pedro de Echave G...|                null|                null|September 22, 2021|        2020| TV-MA|   67 min|Documentaries, In...|Declassified docu...|\n|    s18|TV Show|     Falsa identidad|                null|Luis Ernesto Fran...|              Mexico|September 22, 2021|        2020| TV-MA|2 Seasons|Crime TV Shows, S...|Strangers Diego a...|\n|    s19|  Movie|           Intrusion|          Adam Salky|Freida Pinto, Log...|                null|September 22, 2021|        2021| TV-14|   94 min|           Thrillers|After a deadly ho...|\n|    s20|TV Show|              Jaguar|                null|Blanca Suárez, Iv...|                null|September 22, 2021|        2021| TV-MA| 1 Season|International TV ...|In the 1960s, a H...|\n+-------+-------+--------------------+--------------------+--------------------+--------------------+------------------+------------+------+---------+--------------------+--------------------+\nonly showing top 20 rows\n\n"
     ]
    }
   ],
   "source": [
    "from pyspark.sql import SparkSession\n",
    "from pyspark.sql.functions import transform, col, concat, lit\n",
    "# Create a new SparkSession\n",
    "spark = (SparkSession\n",
    "         .builder\n",
    "         .appName(\"read-csv-data\")\n",
    "         .master(\"spark://spark-master:7077\")\n",
    "         .config(\"spark.executor.memory\", \"512m\")\n",
    "         .getOrCreate())\n",
    "\n",
    "# Set log level to ERROR\n",
    "spark.sparkContext.setLogLevel(\"ERROR\")\n",
    "\n",
    "# Read CSV file into a DataFrame\n",
    "df = (spark.read\n",
    "      .format(\"csv\")\n",
    "      .option(\"header\", \"true\")\n",
    "      .load(\"/FileStore/tables/netflix_titles-1.csv\"))\n",
    "\n",
    "# Alternatively\n",
    "## If your CSV file does not have a header row\n",
    "\n",
    "# df = (spark.read\n",
    "#       .format(\"csv\")\n",
    "#       .option(\"header\", \"false\") # When the CSV file does not have any headers\n",
    "#       .load(\"/FileStore/tables/netflix_titles-1.csv\"))\n",
    "# Display contents of DataFrame\n",
    "df.show()\n",
    "\n",
    "# Alternatively\n",
    "\n",
    "# df.show(50)  # Display first 50 rows\n",
    "# df.show(10, truncate=False)  # Display first 10 rows without truncation"
   ]
  },
  {
   "cell_type": "code",
   "execution_count": 0,
   "metadata": {
    "application/vnd.databricks.v1+cell": {
     "cellMetadata": {
      "byteLimit": 2048000,
      "rowLimit": 10000
     },
     "inputWidgets": {},
     "nuid": "4299eb55-97c5-4a04-82dd-f10ab9a19208",
     "showTitle": false,
     "title": ""
    }
   },
   "outputs": [
    {
     "output_type": "stream",
     "name": "stdout",
     "output_type": "stream",
     "text": [
      "root\n |-- show_id: string (nullable = true)\n |-- type: string (nullable = true)\n |-- title: string (nullable = true)\n |-- director: string (nullable = true)\n |-- cast: string (nullable = true)\n |-- country: string (nullable = true)\n |-- date_added: string (nullable = true)\n |-- release_year: string (nullable = true)\n |-- rating: string (nullable = true)\n |-- duration: string (nullable = true)\n |-- listed_in: string (nullable = true)\n |-- description: string (nullable = true)\n\n"
     ]
    }
   ],
   "source": [
    "# Print schema of DataFrame\n",
    "df.printSchema()"
   ]
  },
  {
   "cell_type": "markdown",
   "metadata": {
    "application/vnd.databricks.v1+cell": {
     "cellMetadata": {
      "byteLimit": 2048000,
      "rowLimit": 10000
     },
     "inputWidgets": {},
     "nuid": "ddb36ba1-e5fb-4b5c-8e1b-59d891e8abd2",
     "showTitle": false,
     "title": ""
    }
   },
   "source": [
    "Reading CSV data with explicit schema"
   ]
  },
  {
   "cell_type": "code",
   "execution_count": 0,
   "metadata": {
    "application/vnd.databricks.v1+cell": {
     "cellMetadata": {
      "byteLimit": 2048000,
      "rowLimit": 10000
     },
     "inputWidgets": {},
     "nuid": "80ad7f03-16e7-473a-8001-72c09f8d537e",
     "showTitle": false,
     "title": ""
    }
   },
   "outputs": [],
   "source": [
    "from pyspark.sql.types import StructType, StructField, StringType, IntegerType, DateType\n",
    "\n",
    "# Define a Schema\n",
    "schema = StructType([\n",
    "    StructField(\"show_id\", StringType(), True),\n",
    "    StructField(\"type\", StringType(), True),\n",
    "    StructField(\"title\", StringType(), True),\n",
    "    StructField(\"director\", StringType(), True),\n",
    "    StructField(\"cast\", StringType(), True),\n",
    "    StructField(\"country\", StringType(), True),\n",
    "    StructField(\"date_added\", DateType(), True),\n",
    "    StructField(\"release_year\", IntegerType(), True),\n",
    "    StructField(\"rating\", StringType(), True),\n",
    "    StructField(\"duration\", StringType(), True),\n",
    "    StructField(\"listed_in\", StringType(), True),\n",
    "    StructField(\"description\", StringType(), True)])"
   ]
  },
  {
   "cell_type": "code",
   "execution_count": 0,
   "metadata": {
    "application/vnd.databricks.v1+cell": {
     "cellMetadata": {
      "byteLimit": 2048000,
      "rowLimit": 10000
     },
     "inputWidgets": {},
     "nuid": "d8b9be91-97fc-4b9c-9d72-1dfc09ad4669",
     "showTitle": false,
     "title": ""
    }
   },
   "outputs": [
    {
     "output_type": "stream",
     "name": "stdout",
     "output_type": "stream",
     "text": [
      "+-------+-------+--------------------+---------------+--------------------+-------------+----------+------------+------+---------+--------------------+--------------------+\n|show_id|   type|               title|       director|                cast|      country|date_added|release_year|rating| duration|           listed_in|         description|\n+-------+-------+--------------------+---------------+--------------------+-------------+----------+------------+------+---------+--------------------+--------------------+\n|     s1|  Movie|Dick Johnson Is Dead|Kirsten Johnson|                null|United States|      null|        2020| PG-13|   90 min|       Documentaries|As her father nea...|\n|     s2|TV Show|       Blood & Water|           null|Ama Qamata, Khosi...| South Africa|      null|        2021| TV-MA|2 Seasons|International TV ...|After crossing pa...|\n|     s3|TV Show|           Ganglands|Julien Leclercq|Sami Bouajila, Tr...|         null|      null|        2021| TV-MA| 1 Season|Crime TV Shows, I...|To protect his fa...|\n|     s4|TV Show|Jailbirds New Orl...|           null|                null|         null|      null|        2021| TV-MA| 1 Season|Docuseries, Reali...|Feuds, flirtation...|\n|     s5|TV Show|        Kota Factory|           null|Mayur More, Jiten...|        India|      null|        2021| TV-MA|2 Seasons|International TV ...|In a city of coac...|\n+-------+-------+--------------------+---------------+--------------------+-------------+----------+------------+------+---------+--------------------+--------------------+\nonly showing top 5 rows\n\n"
     ]
    }
   ],
   "source": [
    "# Read CSV file into a DataFrame\n",
    "df = (spark.read.format(\"csv\")\n",
    "      .option(\"header\", \"true\")\n",
    "      .schema(schema)\n",
    "      .load(\"/FileStore/tables/netflix_titles-1.csv\"))\n",
    "\n",
    "      # Display contents of DataFrame\n",
    "# Display first 5 rows of DataFrame\n",
    "df.show(5)"
   ]
  },
  {
   "cell_type": "markdown",
   "metadata": {
    "application/vnd.databricks.v1+cell": {
     "cellMetadata": {},
     "inputWidgets": {},
     "nuid": "f1cfcd9c-5b1f-4863-917c-4d8fd1c7a0c0",
     "showTitle": false,
     "title": ""
    }
   },
   "source": [
    "Basic Transformation"
   ]
  },
  {
   "cell_type": "code",
   "execution_count": 0,
   "metadata": {
    "application/vnd.databricks.v1+cell": {
     "cellMetadata": {
      "byteLimit": 2048000,
      "rowLimit": 10000
     },
     "inputWidgets": {},
     "nuid": "2d84304a-527b-4050-bac1-83f1f1e11d2d",
     "showTitle": false,
     "title": ""
    }
   },
   "outputs": [],
   "source": [
    "df = (spark.read.format(\"json\")\n",
    "      .option(\"multiLine\", \"true\")\n",
    "      .load(\"/FileStore/tables/nobel_prizes.json\"))"
   ]
  },
  {
   "cell_type": "code",
   "execution_count": 0,
   "metadata": {
    "application/vnd.databricks.v1+cell": {
     "cellMetadata": {
      "byteLimit": 2048000,
      "rowLimit": 10000
     },
     "inputWidgets": {},
     "nuid": "24306b24-ae84-4739-8e06-bbf912afb418",
     "showTitle": false,
     "title": ""
    }
   },
   "outputs": [
    {
     "output_type": "stream",
     "name": "stdout",
     "output_type": "stream",
     "text": [
      "+----------+--------------------+----+--------------------+--------------------+\n|  category|   overallMotivation|year|           laureates| laureates_full_name|\n+----------+--------------------+----+--------------------+--------------------+\n| chemistry|                null|2022|[{Carolyn, 1015, ...|[Carolyn Bertozzi...|\n| economics|                null|2022|[{Ben, 1021, \"for...|[Ben Bernanke, Do...|\n|literature|                null|2022|[{Annie, 1017, \"f...|      [Annie Ernaux]|\n|     peace|                null|2022|[{Ales, 1018, \"Th...|[Ales Bialiatski ...|\n|   physics|                null|2022|[{Alain, 1012, \"f...|[Alain Aspect, nu...|\n|  medicine|                null|2022|[{Svante, 1011, \"...|      [Svante Pääbo]|\n| chemistry|                null|2021|[{Benjamin, 1002,...|[Benjamin List, D...|\n| economics|                null|2021|[{David, 1007, \"f...|[David Card, Josh...|\n|literature|                null|2021|[{Abdulrazak, 100...| [Abdulrazak Gurnah]|\n|     peace|                null|2021|[{Maria, 1005, \"f...|[Maria Ressa, Dmi...|\n|   physics|\"for groundbreaki...|2021|[{Syukuro, 999, \"...|[Syukuro Manabe, ...|\n|  medicine|                null|2021|[{David, 997, \"fo...|[David Julius, Ar...|\n| chemistry|                null|2020|[{Emmanuelle, 991...|[Emmanuelle Charp...|\n| economics|                null|2020|[{Paul, 995, \"for...|[Paul Milgrom, Ro...|\n|literature|                null|2020|[{Louise, 993, \"f...|      [Louise Glück]|\n|     peace|                null|2020|[{World Food Prog...|              [null]|\n|   physics|                null|2020|[{Roger, 988, \"fo...|[Roger Penrose, R...|\n|  medicine|                null|2020|[{Harvey, 985, \"f...|[Harvey Alter, Mi...|\n| chemistry|                null|2019|[{John, 976, \"for...|[John Goodenough,...|\n| economics|                null|2019|[{Abhijit, 982, \"...|[Abhijit Banerjee...|\n+----------+--------------------+----+--------------------+--------------------+\nonly showing top 20 rows\n\n"
     ]
    }
   ],
   "source": [
    "# Apply transform function to Numbers column\n",
    "df_transformed = (\n",
    "    df.select(\"category\"\n",
    "              , \"overallMotivation\"\n",
    "              , \"year\"\n",
    "              , \"laureates\"\n",
    "              , transform(col(\"laureates\"), lambda x: concat(x.firstname,lit(\" \"), x.surname))\n",
    "              .alias(\"laureates_full_name\")))\n",
    "\n",
    "df_transformed.show()"
   ]
  },
  {
   "cell_type": "code",
   "execution_count": 0,
   "metadata": {
    "application/vnd.databricks.v1+cell": {
     "cellMetadata": {
      "byteLimit": 2048000,
      "rowLimit": 10000
     },
     "inputWidgets": {},
     "nuid": "701afdfc-8780-4bf4-92f5-7418390f82c1",
     "showTitle": false,
     "title": ""
    }
   },
   "outputs": [
    {
     "output_type": "stream",
     "name": "stdout",
     "output_type": "stream",
     "text": [
      "+---------+--------------------+-----------------+----+\n| category|           laureates|overallMotivation|year|\n+---------+--------------------+-----------------+----+\n|chemistry|[{Jacobus H., 160...|             null|1901|\n|chemistry|[{Emil, 161, \"in ...|             null|1902|\n|chemistry|[{Svante, 162, \"i...|             null|1903|\n|chemistry|[{Sir William, 16...|             null|1904|\n|chemistry|[{Adolf, 164, \"in...|             null|1905|\n|chemistry|[{Henri, 165, \"in...|             null|1906|\n|chemistry|[{Eduard, 166, \"f...|             null|1907|\n|chemistry|[{Ernest, 167, \"f...|             null|1908|\n|chemistry|[{Wilhelm, 168, \"...|             null|1909|\n|chemistry|[{Otto, 169, \"in ...|             null|1910|\n|chemistry|[{Marie, 6, \"in r...|             null|1911|\n|chemistry|[{Victor, 172, \"f...|             null|1912|\n|chemistry|[{Alfred, 174, \"i...|             null|1913|\n|chemistry|[{Theodore W., 17...|             null|1914|\n|chemistry|[{Richard, 176, \"...|             null|1915|\n|chemistry|[{Fritz, 177, \"fo...|             null|1918|\n|chemistry|[{Walther, 178, \"...|             null|1920|\n|chemistry|[{Frederick, 179,...|             null|1921|\n|chemistry|[{Francis W., 180...|             null|1922|\n|chemistry|[{Fritz, 181, \"fo...|             null|1923|\n+---------+--------------------+-----------------+----+\nonly showing top 20 rows\n\n"
     ]
    }
   ],
   "source": [
    "df_deduped = df.dropDuplicates([\"category\",\"overallMotivation\", \"year\"])\n",
    "\n",
    "df_deduped.show()"
   ]
  },
  {
   "cell_type": "code",
   "execution_count": 0,
   "metadata": {
    "application/vnd.databricks.v1+cell": {
     "cellMetadata": {
      "byteLimit": 2048000,
      "rowLimit": 10000
     },
     "inputWidgets": {},
     "nuid": "50fc04e6-b32b-474f-92af-e321395229f9",
     "showTitle": false,
     "title": ""
    }
   },
   "outputs": [
    {
     "output_type": "stream",
     "name": "stdout",
     "output_type": "stream",
     "text": [
      "+----------+--------------------+-----------------+----+\n|  category|           laureates|overallMotivation|year|\n+----------+--------------------+-----------------+----+\n| chemistry|[{Jacobus H., 160...|             null|1901|\n|literature|[{Sully, 569, \"in...|             null|1901|\n|     peace|[{Henry, 462, \"fo...|             null|1901|\n|   physics|[{Wilhelm Conrad,...|             null|1901|\n|  medicine|[{Emil, 293, \"for...|             null|1901|\n| chemistry|[{Emil, 161, \"in ...|             null|1902|\n|literature|[{Theodor, 571, \"...|             null|1902|\n|     peace|[{Élie, 464, \"for...|             null|1902|\n|   physics|[{Hendrik A., 2, ...|             null|1902|\n|  medicine|[{Ronald, 294, \"f...|             null|1902|\n|literature|[{Bjørnstjerne, 5...|             null|1903|\n| chemistry|[{Svante, 162, \"i...|             null|1903|\n|     peace|[{Randal, 466, \"f...|             null|1903|\n|   physics|[{Henri, 4, \"in r...|             null|1903|\n|  medicine|[{Niels Ryberg, 2...|             null|1903|\n| chemistry|[{Sir William, 16...|             null|1904|\n|literature|[{Frédéric, 573, ...|             null|1904|\n|     peace|[{Institute of In...|             null|1904|\n|   physics|[{Lord, 8, \"for h...|             null|1904|\n|  medicine|[{Ivan, 296, \"in ...|             null|1904|\n+----------+--------------------+-----------------+----+\nonly showing top 20 rows\n\n"
     ]
    }
   ],
   "source": [
    "# Sort by year in ascending order\n",
    "df_sorted = df.orderBy(\"year\")\n",
    "\n",
    "df_sorted.show()"
   ]
  },
  {
   "cell_type": "code",
   "execution_count": 0,
   "metadata": {
    "application/vnd.databricks.v1+cell": {
     "cellMetadata": {
      "byteLimit": 2048000,
      "rowLimit": 10000
     },
     "inputWidgets": {},
     "nuid": "0f89df69-6994-4637-a012-d5048e6148f9",
     "showTitle": false,
     "title": ""
    }
   },
   "outputs": [
    {
     "output_type": "stream",
     "name": "stdout",
     "output_type": "stream",
     "text": [
      "+----------+--------------------+--------------------+----+\n|  category|           laureates|   overallMotivation|year|\n+----------+--------------------+--------------------+----+\n| chemistry|[{Carolyn, 1015, ...|                null|2022|\n| economics|[{Ben, 1021, \"for...|                null|2022|\n|literature|[{Annie, 1017, \"f...|                null|2022|\n|  medicine|[{Svante, 1011, \"...|                null|2022|\n|     peace|[{Ales, 1018, \"Th...|                null|2022|\n|   physics|[{Alain, 1012, \"f...|                null|2022|\n| chemistry|[{Benjamin, 1002,...|                null|2021|\n| economics|[{David, 1007, \"f...|                null|2021|\n|literature|[{Abdulrazak, 100...|                null|2021|\n|  medicine|[{David, 997, \"fo...|                null|2021|\n|     peace|[{Maria, 1005, \"f...|                null|2021|\n|   physics|[{Syukuro, 999, \"...|\"for groundbreaki...|2021|\n| chemistry|[{Emmanuelle, 991...|                null|2020|\n| economics|[{Paul, 995, \"for...|                null|2020|\n|literature|[{Louise, 993, \"f...|                null|2020|\n|  medicine|[{Harvey, 985, \"f...|                null|2020|\n|     peace|[{World Food Prog...|                null|2020|\n|   physics|[{Roger, 988, \"fo...|                null|2020|\n| chemistry|[{John, 976, \"for...|                null|2019|\n| economics|[{Abhijit, 982, \"...|                null|2019|\n+----------+--------------------+--------------------+----+\nonly showing top 20 rows\n\n"
     ]
    }
   ],
   "source": [
    "# Sort by year in descending order, then by category in ascending order\n",
    "df_sorted = df.orderBy([\"year\", \"category\"], ascending=[False, True])\n",
    "\n",
    "df_sorted.show()"
   ]
  },
  {
   "cell_type": "code",
   "execution_count": 0,
   "metadata": {
    "application/vnd.databricks.v1+cell": {
     "cellMetadata": {},
     "inputWidgets": {},
     "nuid": "b78a3b0f-06b8-4195-b9fa-eaceeb58c205",
     "showTitle": false,
     "title": ""
    }
   },
   "outputs": [],
   "source": []
  }
 ],
 "metadata": {
  "application/vnd.databricks.v1+notebook": {
   "dashboards": [],
   "environmentMetadata": null,
   "language": "python",
   "notebookMetadata": {
    "pythonIndentUnit": 4
   },
   "notebookName": "read-process-write",
   "widgets": {}
  }
 },
 "nbformat": 4,
 "nbformat_minor": 0
}
